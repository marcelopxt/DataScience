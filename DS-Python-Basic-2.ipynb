{
 "cells": [
  {
   "cell_type": "markdown",
   "metadata": {
    "id": "P3BoBydmNdBn"
   },
   "source": [
    "# <font>Data Science</font>\n",
    "\n",
    "## <font>Fundamentos de Linguagem Python Para Análise de Dados e Data Science</font>"
   ]
  },
  {
   "cell_type": "code",
   "execution_count": 3,
   "metadata": {
    "id": "-XiUxuQxNdBo"
   },
   "outputs": [
    {
     "name": "stdout",
     "output_type": "stream",
     "text": [
      "Versão da Linguagem Python Usada Neste Jupyter Notebook: 3.12.7\n"
     ]
    }
   ],
   "source": [
    "# Versão da Linguagem Python\n",
    "from platform import python_version\n",
    "print('Versão da Linguagem Python Usada Neste Jupyter Notebook:', python_version())"
   ]
  },
  {
   "cell_type": "markdown",
   "metadata": {
    "id": "RtyQrBZbTbm6"
   },
   "source": [
    "## Matemática e Manipulação de Matrizes com NumPy\n"
   ]
  },
  {
   "cell_type": "markdown",
   "metadata": {
    "id": "2OlqBHTQedhX"
   },
   "source": [
    "## NumPy\n",
    "\n",
    "https://numpy.org/"
   ]
  },
  {
   "cell_type": "code",
   "execution_count": 6,
   "metadata": {
    "id": "gYG7t91sk992"
   },
   "outputs": [
    {
     "data": {
      "text/plain": [
       "'1.26.4'"
      ]
     },
     "execution_count": 6,
     "metadata": {},
     "output_type": "execute_result"
    }
   ],
   "source": [
    "# Importando o NumPy\n",
    "import numpy as np\n",
    "\n",
    "np.version.version"
   ]
  },
  {
   "cell_type": "code",
   "execution_count": 7,
   "metadata": {
    "id": "8ZOSUbt8k-YO"
   },
   "outputs": [],
   "source": [
    "# Instrução para instalar uma versão exata do pacote em Python\n",
    "# !pip install numpy"
   ]
  },
  {
   "cell_type": "markdown",
   "metadata": {
    "id": "HT8zwXiclG7n"
   },
   "source": [
    "### Criando Arrays NumPy"
   ]
  },
  {
   "cell_type": "code",
   "execution_count": 9,
   "metadata": {
    "id": "rwiXdR5wk-af"
   },
   "outputs": [],
   "source": [
    "# Array criado a partir de uma lista Python\n",
    "arr1 = np.array([10, 21, 32, 43, 48, 15, 76, 57, 89])"
   ]
  },
  {
   "cell_type": "code",
   "execution_count": 10,
   "metadata": {
    "id": "nONrqCnEk-cn"
   },
   "outputs": [
    {
     "name": "stdout",
     "output_type": "stream",
     "text": [
      "[10 21 32 43 48 15 76 57 89]\n"
     ]
    }
   ],
   "source": [
    "print(arr1)"
   ]
  },
  {
   "cell_type": "code",
   "execution_count": 11,
   "metadata": {
    "id": "3TKftxRZk-ev"
   },
   "outputs": [
    {
     "data": {
      "text/plain": [
       "numpy.ndarray"
      ]
     },
     "execution_count": 11,
     "metadata": {},
     "output_type": "execute_result"
    }
   ],
   "source": [
    "# Um objeto do tipo ndarray é um recipiente multidimensional de itens do mesmo tipo e tamanho\n",
    "type(arr1)"
   ]
  },
  {
   "cell_type": "code",
   "execution_count": 12,
   "metadata": {
    "id": "VS-P0hUwlLXX"
   },
   "outputs": [
    {
     "data": {
      "text/plain": [
       "(9,)"
      ]
     },
     "execution_count": 12,
     "metadata": {},
     "output_type": "execute_result"
    }
   ],
   "source": [
    "# Verificando o formato do array\n",
    "arr1.shape"
   ]
  },
  {
   "cell_type": "markdown",
   "metadata": {
    "id": "wKvR7EhzlMWO"
   },
   "source": [
    "Um array NumPy é uma estrutura de dados multidimensional usada em computação científica e análise de dados. O NumPy fornece um objeto de matriz N-dimensional (ou ndarray), que é uma grade homogênea de elementos, geralmente números, que podem ser indexados por um conjunto de inteiros.\n",
    "\n",
    "Os arrays NumPy são mais eficientes do que as listas Python para armazenar e manipular grandes quantidades de dados, pois são implementados em Linguagem C e fornecem várias otimizações de desempenho. Além disso, o NumPy permite a fácil leitura e escrita de arquivos de dados, integração com outras bibliotecas Python e suporte a operações em paralelo usando várias CPUs ou GPUs."
   ]
  },
  {
   "cell_type": "markdown",
   "metadata": {
    "id": "VpCqolsLlQcf"
   },
   "source": [
    "### Indexação em Arrays NumPy"
   ]
  },
  {
   "cell_type": "code",
   "execution_count": 15,
   "metadata": {
    "id": "F4kM6m2ClLZ3"
   },
   "outputs": [
    {
     "name": "stdout",
     "output_type": "stream",
     "text": [
      "[10 21 32 43 48 15 76 57 89]\n"
     ]
    }
   ],
   "source": [
    "print(arr1)"
   ]
  },
  {
   "cell_type": "code",
   "execution_count": 16,
   "metadata": {
    "id": "JM_3zRXclSwH"
   },
   "outputs": [
    {
     "data": {
      "text/plain": [
       "48"
      ]
     },
     "execution_count": 16,
     "metadata": {},
     "output_type": "execute_result"
    }
   ],
   "source": [
    "# Imprimindo um elemento específico no array\n",
    "arr1[4]"
   ]
  },
  {
   "cell_type": "code",
   "execution_count": 17,
   "metadata": {
    "id": "PsL6UGawlSyP"
   },
   "outputs": [
    {
     "data": {
      "text/plain": [
       "array([21, 32, 43])"
      ]
     },
     "execution_count": 17,
     "metadata": {},
     "output_type": "execute_result"
    }
   ],
   "source": [
    "# Indexação\n",
    "arr1[1:4]"
   ]
  },
  {
   "cell_type": "code",
   "execution_count": 18,
   "metadata": {
    "id": "mG6S6taslS0O"
   },
   "outputs": [
    {
     "data": {
      "text/plain": [
       "array([21, 32, 43, 48])"
      ]
     },
     "execution_count": 18,
     "metadata": {},
     "output_type": "execute_result"
    }
   ],
   "source": [
    "# Indexação\n",
    "arr1[1:4+1]"
   ]
  },
  {
   "cell_type": "code",
   "execution_count": 19,
   "metadata": {
    "id": "tp_0x5b7lUtH"
   },
   "outputs": [],
   "source": [
    "# Cria uma lista de índices\n",
    "indices = [1, 2, 5, 6]"
   ]
  },
  {
   "cell_type": "code",
   "execution_count": 20,
   "metadata": {
    "id": "6OST9XfalUvX"
   },
   "outputs": [
    {
     "data": {
      "text/plain": [
       "array([21, 32, 15, 76])"
      ]
     },
     "execution_count": 20,
     "metadata": {},
     "output_type": "execute_result"
    }
   ],
   "source": [
    "# Imprimindo os elementos dos índices\n",
    "arr1[indices]"
   ]
  },
  {
   "cell_type": "code",
   "execution_count": 21,
   "metadata": {
    "id": "rcpGgfKslLcY"
   },
   "outputs": [
    {
     "data": {
      "text/plain": [
       "array([ True, False,  True, False,  True, False,  True, False, False])"
      ]
     },
     "execution_count": 21,
     "metadata": {},
     "output_type": "execute_result"
    }
   ],
   "source": [
    "# Cria uma máscara booleana para os elementos pares\n",
    "mask = (arr1 % 2 == 0)\n",
    "mask"
   ]
  },
  {
   "cell_type": "code",
   "execution_count": 22,
   "metadata": {
    "id": "7w2H7t-clWr3"
   },
   "outputs": [
    {
     "data": {
      "text/plain": [
       "array([10, 32, 48, 76])"
      ]
     },
     "execution_count": 22,
     "metadata": {},
     "output_type": "execute_result"
    }
   ],
   "source": [
    "arr1[mask]"
   ]
  },
  {
   "cell_type": "code",
   "execution_count": 23,
   "metadata": {
    "id": "o8bq-vG-lWuH"
   },
   "outputs": [],
   "source": [
    "# Alterando um elemento do array\n",
    "arr1[0] = 100"
   ]
  },
  {
   "cell_type": "code",
   "execution_count": 24,
   "metadata": {
    "id": "-TGB_whVladH"
   },
   "outputs": [
    {
     "name": "stdout",
     "output_type": "stream",
     "text": [
      "[100  21  32  43  48  15  76  57  89]\n"
     ]
    }
   ],
   "source": [
    "print(arr1)"
   ]
  },
  {
   "cell_type": "code",
   "execution_count": 25,
   "metadata": {
    "id": "LWLMyV7_lafX"
   },
   "outputs": [
    {
     "name": "stdout",
     "output_type": "stream",
     "text": [
      "Operação não permitida!\n"
     ]
    }
   ],
   "source": [
    "# Não é possível incluir elemento de outro tipo\n",
    "try:\n",
    "    arr1[0] = 'Novo elemento'\n",
    "except:\n",
    "    print(\"Operação não permitida!\")"
   ]
  },
  {
   "cell_type": "markdown",
   "metadata": {
    "id": "zdJYZt8HlgN-"
   },
   "source": [
    "### Funções NumPy"
   ]
  },
  {
   "cell_type": "code",
   "execution_count": 27,
   "metadata": {
    "id": "Yo66vvhslahn"
   },
   "outputs": [
    {
     "name": "stdout",
     "output_type": "stream",
     "text": [
      "[1 2 3 4 5]\n"
     ]
    }
   ],
   "source": [
    "# A função array() cria um array NumPy\n",
    "arr2 = np.array([1, 2, 3, 4, 5])\n",
    "print(arr2)"
   ]
  },
  {
   "cell_type": "code",
   "execution_count": 28,
   "metadata": {
    "id": "NC1pHEaqlajn"
   },
   "outputs": [
    {
     "data": {
      "text/plain": [
       "numpy.ndarray"
      ]
     },
     "execution_count": 28,
     "metadata": {},
     "output_type": "execute_result"
    }
   ],
   "source": [
    "# Verificando o tipo do objeto\n",
    "type(arr2)"
   ]
  },
  {
   "cell_type": "code",
   "execution_count": 29,
   "metadata": {
    "id": "m5ZjX6Lclalu"
   },
   "outputs": [
    {
     "data": {
      "text/plain": [
       "array([1, 2, 3, 4, 5])"
      ]
     },
     "execution_count": 29,
     "metadata": {},
     "output_type": "execute_result"
    }
   ],
   "source": [
    "# Digite . e pressione a tecla Tab no seu teclado para visualizar os métodos disponíveis em objetos NumPy\n",
    "arr2"
   ]
  },
  {
   "cell_type": "code",
   "execution_count": 30,
   "metadata": {
    "id": "_TwjRAhclWwX"
   },
   "outputs": [
    {
     "data": {
      "text/plain": [
       "array([ 1,  3,  6, 10, 15])"
      ]
     },
     "execution_count": 30,
     "metadata": {},
     "output_type": "execute_result"
    }
   ],
   "source": [
    "# Usando métodos do array NumPy\n",
    "arr2.cumsum()"
   ]
  },
  {
   "cell_type": "code",
   "execution_count": 31,
   "metadata": {
    "id": "v9pAel-Pll2_"
   },
   "outputs": [
    {
     "data": {
      "text/plain": [
       "array([  1,   2,   6,  24, 120])"
      ]
     },
     "execution_count": 31,
     "metadata": {},
     "output_type": "execute_result"
    }
   ],
   "source": [
    "arr2.cumprod()"
   ]
  },
  {
   "cell_type": "code",
   "execution_count": 32,
   "metadata": {
    "id": "SiS64fg6ll5h"
   },
   "outputs": [
    {
     "data": {
      "text/plain": [
       "<module 'numpy' from 'C:\\\\Users\\\\marce\\\\anaconda3\\\\Lib\\\\site-packages\\\\numpy\\\\__init__.py'>"
      ]
     },
     "execution_count": 32,
     "metadata": {},
     "output_type": "execute_result"
    }
   ],
   "source": [
    "# Digite . e pressione a tecla Tab no seu teclado para visualizar as funções para manipular objetos NumPy\n",
    "np"
   ]
  },
  {
   "cell_type": "code",
   "execution_count": 33,
   "metadata": {
    "id": "J96xpfSZll7_"
   },
   "outputs": [
    {
     "name": "stdout",
     "output_type": "stream",
     "text": [
      "[ 0  5 10 15 20 25 30 35 40 45]\n"
     ]
    }
   ],
   "source": [
    "# A função arange cria um array NumPy contendo uma progressão aritmética a partir de um intervalo - start, stop, step\n",
    "arr3 = np.arange(0, 50, 5)\n",
    "print(arr3)"
   ]
  },
  {
   "cell_type": "code",
   "execution_count": 34,
   "metadata": {
    "id": "RAdEIc0Glrav"
   },
   "outputs": [
    {
     "data": {
      "text/plain": [
       "numpy.ndarray"
      ]
     },
     "execution_count": 34,
     "metadata": {},
     "output_type": "execute_result"
    }
   ],
   "source": [
    "# Verificando o tipo do objeto\n",
    "type(arr3)"
   ]
  },
  {
   "cell_type": "code",
   "execution_count": 35,
   "metadata": {
    "id": "CKCga0hDlrc3"
   },
   "outputs": [
    {
     "data": {
      "text/plain": [
       "(10,)"
      ]
     },
     "execution_count": 35,
     "metadata": {},
     "output_type": "execute_result"
    }
   ],
   "source": [
    "# Formato do array\n",
    "np.shape(arr3)"
   ]
  },
  {
   "cell_type": "code",
   "execution_count": 36,
   "metadata": {
    "id": "9oYG6kErll-g"
   },
   "outputs": [
    {
     "name": "stdout",
     "output_type": "stream",
     "text": [
      "int32\n"
     ]
    }
   ],
   "source": [
    "print(arr3.dtype)"
   ]
  },
  {
   "cell_type": "code",
   "execution_count": 37,
   "metadata": {
    "id": "STRv_Z6LlvIg"
   },
   "outputs": [
    {
     "name": "stdout",
     "output_type": "stream",
     "text": [
      "[0. 0. 0. 0. 0. 0. 0. 0. 0. 0.]\n"
     ]
    }
   ],
   "source": [
    "# Cria um array preenchido com zeros\n",
    "arr4 = np.zeros(10)\n",
    "print(arr4)"
   ]
  },
  {
   "cell_type": "code",
   "execution_count": 38,
   "metadata": {
    "id": "9TIL4DSAlvK_"
   },
   "outputs": [
    {
     "name": "stdout",
     "output_type": "stream",
     "text": [
      "[0. 0. 0. 0. 0. 0. 0. 0. 0. 0.]\n"
     ]
    }
   ],
   "source": [
    "print(arr4)"
   ]
  },
  {
   "cell_type": "code",
   "execution_count": 39,
   "metadata": {
    "id": "6GYYMFfllvNJ"
   },
   "outputs": [
    {
     "name": "stdout",
     "output_type": "stream",
     "text": [
      "[[1. 0. 0.]\n",
      " [0. 1. 0.]\n",
      " [0. 0. 1.]]\n"
     ]
    }
   ],
   "source": [
    "# Retorna 1 nas posições em diagonal e 0 no restante\n",
    "arr5 = np.eye(3)\n",
    "print(arr5)"
   ]
  },
  {
   "cell_type": "code",
   "execution_count": 40,
   "metadata": {
    "id": "1najdpESlvPS"
   },
   "outputs": [
    {
     "name": "stdout",
     "output_type": "stream",
     "text": [
      "[[1 0 0 0]\n",
      " [0 2 0 0]\n",
      " [0 0 3 0]\n",
      " [0 0 0 4]]\n"
     ]
    }
   ],
   "source": [
    "# Os valores passados como parâmetro, formam uma diagonal\n",
    "arr6 = np.diag(np.array([1, 2, 3, 4]))\n",
    "print(arr6)"
   ]
  },
  {
   "cell_type": "code",
   "execution_count": 41,
   "metadata": {
    "id": "3T0o623RlvRa"
   },
   "outputs": [
    {
     "name": "stdout",
     "output_type": "stream",
     "text": [
      "[ True False False  True]\n"
     ]
    }
   ],
   "source": [
    "# Array de valores booleanos\n",
    "arr7 = np.array([True, False, False, True])\n",
    "print(arr7)"
   ]
  },
  {
   "cell_type": "code",
   "execution_count": 42,
   "metadata": {
    "id": "C-FUWwRKl9EA"
   },
   "outputs": [
    {
     "name": "stdout",
     "output_type": "stream",
     "text": [
      "['Linguagem Python' 'Linguagem R' 'Linguagem Julia']\n"
     ]
    }
   ],
   "source": [
    "# Array de strings\n",
    "arr8 = np.array(['Linguagem Python', 'Linguagem R', 'Linguagem Julia'])\n",
    "print(arr8)"
   ]
  },
  {
   "cell_type": "markdown",
   "metadata": {
    "id": "KRK8B7K_mA2H"
   },
   "source": [
    "A função `linspace()` do NumPy é usada para criar uma sequência de números igualmente espaçados dentro de um intervalo especificado. Essa função é amplamente utilizada em programação científica e matemática para gerar arrays de números para diversos fins, como gráficos, cálculos e simulações.\n",
    "\n",
    "O método `linspace (linearly spaced vector)` retorna um número de valores igualmente distribuídos no intervalo especificado."
   ]
  },
  {
   "cell_type": "code",
   "execution_count": 44,
   "metadata": {
    "id": "VlNA98sWl9GH"
   },
   "outputs": [
    {
     "name": "stdout",
     "output_type": "stream",
     "text": [
      "[ 0.          0.20408163  0.40816327  0.6122449   0.81632653  1.02040816\n",
      "  1.2244898   1.42857143  1.63265306  1.83673469  2.04081633  2.24489796\n",
      "  2.44897959  2.65306122  2.85714286  3.06122449  3.26530612  3.46938776\n",
      "  3.67346939  3.87755102  4.08163265  4.28571429  4.48979592  4.69387755\n",
      "  4.89795918  5.10204082  5.30612245  5.51020408  5.71428571  5.91836735\n",
      "  6.12244898  6.32653061  6.53061224  6.73469388  6.93877551  7.14285714\n",
      "  7.34693878  7.55102041  7.75510204  7.95918367  8.16326531  8.36734694\n",
      "  8.57142857  8.7755102   8.97959184  9.18367347  9.3877551   9.59183673\n",
      "  9.79591837 10.        ]\n"
     ]
    }
   ],
   "source": [
    "print(np.linspace(0, 10))"
   ]
  },
  {
   "cell_type": "code",
   "execution_count": 45,
   "metadata": {
    "id": "OcXjU8lamGep"
   },
   "outputs": [
    {
     "name": "stdout",
     "output_type": "stream",
     "text": [
      "[ 0.          0.71428571  1.42857143  2.14285714  2.85714286  3.57142857\n",
      "  4.28571429  5.          5.71428571  6.42857143  7.14285714  7.85714286\n",
      "  8.57142857  9.28571429 10.        ]\n"
     ]
    }
   ],
   "source": [
    "print(np.linspace(0, 10, 15))"
   ]
  },
  {
   "cell_type": "code",
   "execution_count": 46,
   "metadata": {
    "id": "3CpVXS9ZmGgn"
   },
   "outputs": [
    {
     "name": "stdout",
     "output_type": "stream",
     "text": [
      "[1.00000000e+00 3.59381366e+00 1.29154967e+01 4.64158883e+01\n",
      " 1.66810054e+02 5.99484250e+02 2.15443469e+03 7.74263683e+03\n",
      " 2.78255940e+04 1.00000000e+05]\n"
     ]
    }
   ],
   "source": [
    "print(np.logspace(0, 5, 10))"
   ]
  },
  {
   "cell_type": "markdown",
   "metadata": {
    "id": "2bF2k4ilmK_O"
   },
   "source": [
    "### Manipulando Matrizes"
   ]
  },
  {
   "cell_type": "code",
   "execution_count": 48,
   "metadata": {
    "id": "B6n6ideBmGip"
   },
   "outputs": [
    {
     "data": {
      "text/plain": [
       "numpy.ndarray"
      ]
     },
     "execution_count": 48,
     "metadata": {},
     "output_type": "execute_result"
    }
   ],
   "source": [
    "# Criando uma matriz\n",
    "arr9 = np.array( [ [1,2,3] , [4,5,6] ] )\n",
    "type(arr9)"
   ]
  },
  {
   "cell_type": "code",
   "execution_count": 49,
   "metadata": {
    "id": "06Sr_qSBmMhg"
   },
   "outputs": [
    {
     "name": "stdout",
     "output_type": "stream",
     "text": [
      "[[1 2 3]\n",
      " [4 5 6]]\n"
     ]
    }
   ],
   "source": [
    "print(arr9)"
   ]
  },
  {
   "cell_type": "code",
   "execution_count": 50,
   "metadata": {
    "id": "Wfi2Ys_smMj_"
   },
   "outputs": [
    {
     "name": "stdout",
     "output_type": "stream",
     "text": [
      "(2, 3)\n"
     ]
    }
   ],
   "source": [
    "print(arr9.shape)"
   ]
  },
  {
   "cell_type": "code",
   "execution_count": 51,
   "metadata": {
    "id": "vgjKVy2amMmH"
   },
   "outputs": [
    {
     "name": "stdout",
     "output_type": "stream",
     "text": [
      "[[1. 1. 1.]\n",
      " [1. 1. 1.]]\n"
     ]
    }
   ],
   "source": [
    "# Criando uma matriz 2x3 apenas com números \"1\"\n",
    "arr10 = np.ones((2,3))\n",
    "print(arr10)"
   ]
  },
  {
   "cell_type": "code",
   "execution_count": 52,
   "metadata": {
    "id": "RT09pWZNlmBA"
   },
   "outputs": [],
   "source": [
    "# Lista de listas\n",
    "lista = [[13,81,22], [0, 34, 59], [21, 48, 94]]"
   ]
  },
  {
   "cell_type": "code",
   "execution_count": 53,
   "metadata": {
    "id": "gi_dkZDImT4X"
   },
   "outputs": [
    {
     "data": {
      "text/plain": [
       "numpy.matrix"
      ]
     },
     "execution_count": 53,
     "metadata": {},
     "output_type": "execute_result"
    }
   ],
   "source": [
    "# A função matrix cria uma matriz a partir de uma lista de listas\n",
    "arr11 = np.matrix(lista)\n",
    "type(arr11)"
   ]
  },
  {
   "cell_type": "code",
   "execution_count": 54,
   "metadata": {
    "id": "-VOM2BsYmT6v"
   },
   "outputs": [
    {
     "name": "stdout",
     "output_type": "stream",
     "text": [
      "[[13 81 22]\n",
      " [ 0 34 59]\n",
      " [21 48 94]]\n"
     ]
    }
   ],
   "source": [
    "print(arr11)"
   ]
  },
  {
   "cell_type": "code",
   "execution_count": 55,
   "metadata": {
    "id": "YSYheP4RmcBg"
   },
   "outputs": [
    {
     "data": {
      "text/plain": [
       "(3, 3)"
      ]
     },
     "execution_count": 55,
     "metadata": {},
     "output_type": "execute_result"
    }
   ],
   "source": [
    "# Formato da matriz\n",
    "np.shape(arr11)"
   ]
  },
  {
   "cell_type": "code",
   "execution_count": 56,
   "metadata": {
    "id": "hYbMP-BQmcDn"
   },
   "outputs": [
    {
     "data": {
      "text/plain": [
       "9"
      ]
     },
     "execution_count": 56,
     "metadata": {},
     "output_type": "execute_result"
    }
   ],
   "source": [
    "# Tamanho da matriz\n",
    "arr11.size"
   ]
  },
  {
   "cell_type": "code",
   "execution_count": 57,
   "metadata": {
    "id": "I3we5KWDmcFg"
   },
   "outputs": [
    {
     "name": "stdout",
     "output_type": "stream",
     "text": [
      "int32\n"
     ]
    }
   ],
   "source": [
    "print(arr11.dtype)"
   ]
  },
  {
   "cell_type": "code",
   "execution_count": 58,
   "metadata": {
    "id": "o4Y_jCqBmT9G"
   },
   "outputs": [
    {
     "name": "stdout",
     "output_type": "stream",
     "text": [
      "[[13 81 22]\n",
      " [ 0 34 59]\n",
      " [21 48 94]]\n"
     ]
    }
   ],
   "source": [
    "print(arr11)"
   ]
  },
  {
   "cell_type": "code",
   "execution_count": 59,
   "metadata": {
    "id": "n7J7AXVpmf1B"
   },
   "outputs": [
    {
     "data": {
      "text/plain": [
       "48"
      ]
     },
     "execution_count": 59,
     "metadata": {},
     "output_type": "execute_result"
    }
   ],
   "source": [
    "# Indexação da matriz\n",
    "arr11[2,1]"
   ]
  },
  {
   "cell_type": "code",
   "execution_count": 60,
   "metadata": {
    "id": "P-58obV2mf3H"
   },
   "outputs": [
    {
     "data": {
      "text/plain": [
       "matrix([[22],\n",
       "        [59]])"
      ]
     },
     "execution_count": 60,
     "metadata": {},
     "output_type": "execute_result"
    }
   ],
   "source": [
    "# Indexação da matriz\n",
    "arr11[0:2,2]"
   ]
  },
  {
   "cell_type": "code",
   "execution_count": 61,
   "metadata": {
    "id": "u0TU24hemf5J"
   },
   "outputs": [
    {
     "data": {
      "text/plain": [
       "matrix([[ 0, 34, 59]])"
      ]
     },
     "execution_count": 61,
     "metadata": {},
     "output_type": "execute_result"
    }
   ],
   "source": [
    "# Indexação da matriz\n",
    "arr11[1,]"
   ]
  },
  {
   "cell_type": "code",
   "execution_count": 62,
   "metadata": {
    "id": "8lDizHm6mf7I"
   },
   "outputs": [],
   "source": [
    "# Alterando um elemento da matriz\n",
    "arr11[1,0] = 100"
   ]
  },
  {
   "cell_type": "code",
   "execution_count": 63,
   "metadata": {
    "id": "zpihbnVWmipo"
   },
   "outputs": [
    {
     "name": "stdout",
     "output_type": "stream",
     "text": [
      "[[ 13  81  22]\n",
      " [100  34  59]\n",
      " [ 21  48  94]]\n"
     ]
    }
   ],
   "source": [
    "print(arr11)"
   ]
  },
  {
   "cell_type": "code",
   "execution_count": 64,
   "metadata": {
    "id": "2gC3jil-misn"
   },
   "outputs": [],
   "source": [
    "x = np.array([1, 2])  # NumPy decide o tipo dos dado\n",
    "y = np.array([1.0, 2.0])  # NumPy decide o tipo dos dado\n",
    "z = np.array([1, 2], dtype = np.float64)  # Forçamos um tipo de dado em particular"
   ]
  },
  {
   "cell_type": "code",
   "execution_count": 65,
   "metadata": {
    "id": "osYdB-nrmiu4"
   },
   "outputs": [
    {
     "name": "stdout",
     "output_type": "stream",
     "text": [
      "int32 float64 float64\n"
     ]
    }
   ],
   "source": [
    "print(x.dtype, y.dtype, z.dtype)"
   ]
  },
  {
   "cell_type": "code",
   "execution_count": 66,
   "metadata": {
    "id": "hXz3EzKwoDIA"
   },
   "outputs": [],
   "source": [
    "arr12 = np.array([[24, 76, 92, 14], [47, 35, 89, 2]], dtype = float)"
   ]
  },
  {
   "cell_type": "code",
   "execution_count": 67,
   "metadata": {
    "id": "jaAL75m7oDKf"
   },
   "outputs": [
    {
     "name": "stdout",
     "output_type": "stream",
     "text": [
      "[[24. 76. 92. 14.]\n",
      " [47. 35. 89.  2.]]\n"
     ]
    }
   ],
   "source": [
    "print(arr12)"
   ]
  },
  {
   "cell_type": "markdown",
   "metadata": {
    "id": "LjC6PHjWoGqw"
   },
   "source": [
    "\n",
    "O `itemsize` de um array numpy é um atributo que retorna o tamanho em bytes de cada elemento do array. Em outras palavras, o `itemsize` representa o número de bytes necessários para armazenar cada valor do array numpy."
   ]
  },
  {
   "cell_type": "code",
   "execution_count": 69,
   "metadata": {
    "id": "7IY4AREXoDM3"
   },
   "outputs": [
    {
     "data": {
      "text/plain": [
       "8"
      ]
     },
     "execution_count": 69,
     "metadata": {},
     "output_type": "execute_result"
    }
   ],
   "source": [
    "arr12.itemsize"
   ]
  },
  {
   "cell_type": "code",
   "execution_count": 70,
   "metadata": {
    "id": "L1RRTYbJoDO8"
   },
   "outputs": [
    {
     "data": {
      "text/plain": [
       "64"
      ]
     },
     "execution_count": 70,
     "metadata": {},
     "output_type": "execute_result"
    }
   ],
   "source": [
    "arr12.nbytes"
   ]
  },
  {
   "cell_type": "code",
   "execution_count": 71,
   "metadata": {
    "id": "JYyBkvwEoDRE"
   },
   "outputs": [
    {
     "data": {
      "text/plain": [
       "2"
      ]
     },
     "execution_count": 71,
     "metadata": {},
     "output_type": "execute_result"
    }
   ],
   "source": [
    "arr12.ndim"
   ]
  },
  {
   "cell_type": "markdown",
   "metadata": {
    "id": "Ngv4vtEXoNKe"
   },
   "source": [
    "### Manipulando Objetos de 3 e 4 Dimensões com NumPy"
   ]
  },
  {
   "cell_type": "code",
   "execution_count": 73,
   "metadata": {
    "id": "CytCOhKSoLuu"
   },
   "outputs": [],
   "source": [
    "# Cria um array numpy de 3 dimensões\n",
    "arr_3d = np.array([\n",
    "    [\n",
    "        [1, 2, 3, 4],\n",
    "        [5, 6, 7, 8],\n",
    "        [9, 10, 11, 12]\n",
    "    ],\n",
    "    [\n",
    "        [13, 14, 15, 16],\n",
    "        [17, 18, 19, 20],\n",
    "        [21, 22, 23, 24]\n",
    "    ]\n",
    "])"
   ]
  },
  {
   "cell_type": "code",
   "execution_count": 74,
   "metadata": {
    "id": "BtFz2-IioLzw"
   },
   "outputs": [
    {
     "name": "stdout",
     "output_type": "stream",
     "text": [
      "[[[ 1  2  3  4]\n",
      "  [ 5  6  7  8]\n",
      "  [ 9 10 11 12]]\n",
      "\n",
      " [[13 14 15 16]\n",
      "  [17 18 19 20]\n",
      "  [21 22 23 24]]]\n"
     ]
    }
   ],
   "source": [
    "print(arr_3d)"
   ]
  },
  {
   "cell_type": "code",
   "execution_count": 75,
   "metadata": {
    "id": "kqtHZsKIoP1A"
   },
   "outputs": [
    {
     "data": {
      "text/plain": [
       "3"
      ]
     },
     "execution_count": 75,
     "metadata": {},
     "output_type": "execute_result"
    }
   ],
   "source": [
    "arr_3d.ndim"
   ]
  },
  {
   "cell_type": "code",
   "execution_count": 76,
   "metadata": {
    "id": "cr0ZmWbKoP3H"
   },
   "outputs": [
    {
     "data": {
      "text/plain": [
       "(2, 3, 4)"
      ]
     },
     "execution_count": 76,
     "metadata": {},
     "output_type": "execute_result"
    }
   ],
   "source": [
    "arr_3d.shape"
   ]
  },
  {
   "cell_type": "code",
   "execution_count": 77,
   "metadata": {
    "id": "wSrf54wWoP5d"
   },
   "outputs": [
    {
     "data": {
      "text/plain": [
       "10"
      ]
     },
     "execution_count": 77,
     "metadata": {},
     "output_type": "execute_result"
    }
   ],
   "source": [
    "arr_3d[0, 2, 1]"
   ]
  },
  {
   "cell_type": "code",
   "execution_count": 78,
   "metadata": {
    "id": "xurRZWMzoP7i"
   },
   "outputs": [],
   "source": [
    "# Cria um array numpy de 4 dimensões\n",
    "arr_4d = np.array([\n",
    "    [\n",
    "        [\n",
    "            [1, 2, 3, 4, 5],\n",
    "            [6, 7, 8, 9, 10],\n",
    "            [11, 12, 13, 14, 15],\n",
    "            [16, 17, 18, 19, 20]\n",
    "        ],\n",
    "        [\n",
    "            [21, 22, 23, 24, 25],\n",
    "            [26, 27, 28, 29, 30],\n",
    "            [31, 32, 33, 34, 35],\n",
    "            [36, 37, 38, 39, 40]\n",
    "        ],\n",
    "        [\n",
    "            [41, 42, 43, 44, 45],\n",
    "            [46, 47, 48, 49, 50],\n",
    "            [51, 52, 53, 54, 55],\n",
    "            [56, 57, 58, 59, 60]\n",
    "        ]\n",
    "    ],\n",
    "    [\n",
    "        [\n",
    "            [61, 62, 63, 64, 65],\n",
    "            [66, 67, 68, 69, 70],\n",
    "            [71, 72, 73, 74, 75],\n",
    "            [76, 77, 78, 79, 80]\n",
    "        ],\n",
    "        [\n",
    "            [81, 82, 83, 84, 85],\n",
    "            [86, 87, 88, 89, 90],\n",
    "            [91, 92, 93, 94, 95],\n",
    "            [96, 97, 98, 99, 100]\n",
    "        ],\n",
    "        [\n",
    "            [101, 102, 103, 104, 105],\n",
    "            [106, 107, 108, 109, 110],\n",
    "            [111, 112, 113, 114, 115],\n",
    "            [116, 117, 118, 119, 120]\n",
    "        ]\n",
    "    ]\n",
    "])"
   ]
  },
  {
   "cell_type": "code",
   "execution_count": 79,
   "metadata": {
    "id": "MeP_R2bSoT5g"
   },
   "outputs": [
    {
     "name": "stdout",
     "output_type": "stream",
     "text": [
      "[[[[  1   2   3   4   5]\n",
      "   [  6   7   8   9  10]\n",
      "   [ 11  12  13  14  15]\n",
      "   [ 16  17  18  19  20]]\n",
      "\n",
      "  [[ 21  22  23  24  25]\n",
      "   [ 26  27  28  29  30]\n",
      "   [ 31  32  33  34  35]\n",
      "   [ 36  37  38  39  40]]\n",
      "\n",
      "  [[ 41  42  43  44  45]\n",
      "   [ 46  47  48  49  50]\n",
      "   [ 51  52  53  54  55]\n",
      "   [ 56  57  58  59  60]]]\n",
      "\n",
      "\n",
      " [[[ 61  62  63  64  65]\n",
      "   [ 66  67  68  69  70]\n",
      "   [ 71  72  73  74  75]\n",
      "   [ 76  77  78  79  80]]\n",
      "\n",
      "  [[ 81  82  83  84  85]\n",
      "   [ 86  87  88  89  90]\n",
      "   [ 91  92  93  94  95]\n",
      "   [ 96  97  98  99 100]]\n",
      "\n",
      "  [[101 102 103 104 105]\n",
      "   [106 107 108 109 110]\n",
      "   [111 112 113 114 115]\n",
      "   [116 117 118 119 120]]]]\n"
     ]
    }
   ],
   "source": [
    "print(arr_4d)"
   ]
  },
  {
   "cell_type": "code",
   "execution_count": 80,
   "metadata": {
    "id": "tqsIlvIzoT8A"
   },
   "outputs": [
    {
     "data": {
      "text/plain": [
       "4"
      ]
     },
     "execution_count": 80,
     "metadata": {},
     "output_type": "execute_result"
    }
   ],
   "source": [
    "arr_4d.ndim"
   ]
  },
  {
   "cell_type": "code",
   "execution_count": 81,
   "metadata": {
    "id": "i3ZE_SiioT-p"
   },
   "outputs": [
    {
     "data": {
      "text/plain": [
       "(2, 3, 4, 5)"
      ]
     },
     "execution_count": 81,
     "metadata": {},
     "output_type": "execute_result"
    }
   ],
   "source": [
    "arr_4d.shape"
   ]
  },
  {
   "cell_type": "code",
   "execution_count": 82,
   "metadata": {
    "id": "-8Ugh-EdoUA-"
   },
   "outputs": [
    {
     "data": {
      "text/plain": [
       "array([46, 47, 48, 49, 50])"
      ]
     },
     "execution_count": 82,
     "metadata": {},
     "output_type": "execute_result"
    }
   ],
   "source": [
    "arr_4d[0, 2, 1]"
   ]
  },
  {
   "cell_type": "code",
   "execution_count": 83,
   "metadata": {
    "id": "-OInMa1zoUDI"
   },
   "outputs": [
    {
     "data": {
      "text/plain": [
       "50"
      ]
     },
     "execution_count": 83,
     "metadata": {},
     "output_type": "execute_result"
    }
   ],
   "source": [
    "arr_4d[0, 2, 1, 4]"
   ]
  },
  {
   "cell_type": "markdown",
   "metadata": {
    "id": "dUAO6R6roZiO"
   },
   "source": [
    "### Manipulando Arquivos com NumPy"
   ]
  },
  {
   "cell_type": "code",
   "execution_count": 85,
   "metadata": {
    "id": "UnaSf6fHoUFR"
   },
   "outputs": [],
   "source": [
    "import os\n",
    "filename = os.path.join('./arq/dataset.csv')"
   ]
  },
  {
   "cell_type": "code",
   "execution_count": 86,
   "metadata": {
    "id": "k9xShZL-oUHQ"
   },
   "outputs": [
    {
     "name": "stderr",
     "output_type": "stream",
     "text": [
      "Não é possível o acesso ao arquivo C:\\Users\\marce\\OneDrive\\Documentos\\Faculdade\\Ciencia de Dados\\notebooks\\dataset.csv\n"
     ]
    }
   ],
   "source": [
    "# No Windows use !more dataset.csv. Mac ou Linux use !head dataset.csv\n",
    "#!head dataset.csv\n",
    "!more dataset.csv"
   ]
  },
  {
   "cell_type": "code",
   "execution_count": 87,
   "metadata": {
    "id": "dZ_H90FHodbg"
   },
   "outputs": [
    {
     "name": "stdout",
     "output_type": "stream",
     "text": [
      "[[5.1 3.5 1.4 0.2]\n",
      " [4.9 3.  1.4 0.2]\n",
      " [4.7 3.2 1.3 0.2]\n",
      " [4.6 3.1 1.5 0.2]\n",
      " [5.  3.6 1.4 0.2]\n",
      " [5.4 3.9 1.7 0.4]\n",
      " [4.6 3.4 1.4 0.3]\n",
      " [5.  3.4 1.5 0.2]\n",
      " [4.4 2.9 1.4 0.2]\n",
      " [4.9 3.1 1.5 0.1]\n",
      " [5.4 3.7 1.5 0.2]\n",
      " [4.8 3.4 1.6 0.2]\n",
      " [4.8 3.  1.4 0.1]\n",
      " [4.3 3.  1.1 0.1]\n",
      " [5.8 4.  1.2 0.2]\n",
      " [5.7 4.4 1.5 0.4]\n",
      " [5.4 3.9 1.3 0.4]\n",
      " [5.1 3.5 1.4 0.3]\n",
      " [5.7 3.8 1.7 0.3]\n",
      " [5.1 3.8 1.5 0.3]\n",
      " [5.4 3.4 1.7 0.2]\n",
      " [5.1 3.7 1.5 0.4]\n",
      " [4.6 3.6 1.  0.2]\n",
      " [5.1 3.3 1.7 0.5]\n",
      " [4.8 3.4 1.9 0.2]\n",
      " [5.  3.  1.6 0.2]\n",
      " [5.  3.4 1.6 0.4]\n",
      " [5.2 3.5 1.5 0.2]\n",
      " [5.2 3.4 1.4 0.2]\n",
      " [4.7 3.2 1.6 0.2]\n",
      " [4.8 3.1 1.6 0.2]\n",
      " [5.4 3.4 1.5 0.4]\n",
      " [5.2 4.1 1.5 0.1]\n",
      " [5.5 4.2 1.4 0.2]\n",
      " [4.9 3.1 1.5 0.1]\n",
      " [5.  3.2 1.2 0.2]\n",
      " [5.5 3.5 1.3 0.2]\n",
      " [4.9 3.1 1.5 0.1]\n",
      " [4.4 3.  1.3 0.2]\n",
      " [5.1 3.4 1.5 0.2]\n",
      " [5.  3.5 1.3 0.3]\n",
      " [4.5 2.3 1.3 0.3]\n",
      " [4.4 3.2 1.3 0.2]\n",
      " [5.  3.5 1.6 0.6]\n",
      " [5.1 3.8 1.9 0.4]\n",
      " [4.8 3.  1.4 0.3]\n",
      " [5.1 3.8 1.6 0.2]\n",
      " [4.6 3.2 1.4 0.2]\n",
      " [5.3 3.7 1.5 0.2]\n",
      " [5.  3.3 1.4 0.2]\n",
      " [7.  3.2 4.7 1.4]\n",
      " [6.4 3.2 4.5 1.5]\n",
      " [6.9 3.1 4.9 1.5]\n",
      " [5.5 2.3 4.  1.3]\n",
      " [6.5 2.8 4.6 1.5]\n",
      " [5.7 2.8 4.5 1.3]\n",
      " [6.3 3.3 4.7 1.6]\n",
      " [4.9 2.4 3.3 1. ]\n",
      " [6.6 2.9 4.6 1.3]\n",
      " [5.2 2.7 3.9 1.4]\n",
      " [5.  2.  3.5 1. ]\n",
      " [5.9 3.  4.2 1.5]\n",
      " [6.  2.2 4.  1. ]\n",
      " [6.1 2.9 4.7 1.4]\n",
      " [5.6 2.9 3.6 1.3]\n",
      " [6.7 3.1 4.4 1.4]\n",
      " [5.6 3.  4.5 1.5]\n",
      " [5.8 2.7 4.1 1. ]\n",
      " [6.2 2.2 4.5 1.5]\n",
      " [5.6 2.5 3.9 1.1]\n",
      " [5.9 3.2 4.8 1.8]\n",
      " [6.1 2.8 4.  1.3]\n",
      " [6.3 2.5 4.9 1.5]\n",
      " [6.1 2.8 4.7 1.2]\n",
      " [6.4 2.9 4.3 1.3]\n",
      " [6.6 3.  4.4 1.4]\n",
      " [6.8 2.8 4.8 1.4]\n",
      " [6.7 3.  5.  1.7]\n",
      " [6.  2.9 4.5 1.5]\n",
      " [5.7 2.6 3.5 1. ]\n",
      " [5.5 2.4 3.8 1.1]\n",
      " [5.5 2.4 3.7 1. ]\n",
      " [5.8 2.7 3.9 1.2]\n",
      " [6.  2.7 5.1 1.6]\n",
      " [5.4 3.  4.5 1.5]\n",
      " [6.  3.4 4.5 1.6]\n",
      " [6.7 3.1 4.7 1.5]\n",
      " [6.3 2.3 4.4 1.3]\n",
      " [5.6 3.  4.1 1.3]\n",
      " [5.5 2.5 4.  1.3]\n",
      " [5.5 2.6 4.4 1.2]\n",
      " [6.1 3.  4.6 1.4]\n",
      " [5.8 2.6 4.  1.2]\n",
      " [5.  2.3 3.3 1. ]\n",
      " [5.6 2.7 4.2 1.3]\n",
      " [5.7 3.  4.2 1.2]\n",
      " [5.7 2.9 4.2 1.3]\n",
      " [6.2 2.9 4.3 1.3]\n",
      " [5.1 2.5 3.  1.1]\n",
      " [5.7 2.8 4.1 1.3]\n",
      " [6.3 3.3 6.  2.5]\n",
      " [5.8 2.7 5.1 1.9]\n",
      " [7.1 3.  5.9 2.1]\n",
      " [6.3 2.9 5.6 1.8]\n",
      " [6.5 3.  5.8 2.2]\n",
      " [7.6 3.  6.6 2.1]\n",
      " [4.9 2.5 4.5 1.7]\n",
      " [7.3 2.9 6.3 1.8]\n",
      " [6.7 2.5 5.8 1.8]\n",
      " [7.2 3.6 6.1 2.5]\n",
      " [6.5 3.2 5.1 2. ]\n",
      " [6.4 2.7 5.3 1.9]\n",
      " [6.8 3.  5.5 2.1]\n",
      " [5.7 2.5 5.  2. ]\n",
      " [5.8 2.8 5.1 2.4]\n",
      " [6.4 3.2 5.3 2.3]\n",
      " [6.5 3.  5.5 1.8]\n",
      " [7.7 3.8 6.7 2.2]\n",
      " [7.7 2.6 6.9 2.3]\n",
      " [6.  2.2 5.  1.5]\n",
      " [6.9 3.2 5.7 2.3]\n",
      " [5.6 2.8 4.9 2. ]\n",
      " [7.7 2.8 6.7 2. ]\n",
      " [6.3 2.7 4.9 1.8]\n",
      " [6.7 3.3 5.7 2.1]\n",
      " [7.2 3.2 6.  1.8]\n",
      " [6.2 2.8 4.8 1.8]\n",
      " [6.1 3.  4.9 1.8]\n",
      " [6.4 2.8 5.6 2.1]\n",
      " [7.2 3.  5.8 1.6]\n",
      " [7.4 2.8 6.1 1.9]\n",
      " [7.9 3.8 6.4 2. ]\n",
      " [6.4 2.8 5.6 2.2]\n",
      " [6.3 2.8 5.1 1.5]\n",
      " [6.1 2.6 5.6 1.4]\n",
      " [7.7 3.  6.1 2.3]\n",
      " [6.3 3.4 5.6 2.4]\n",
      " [6.4 3.1 5.5 1.8]\n",
      " [6.  3.  4.8 1.8]\n",
      " [6.9 3.1 5.4 2.1]\n",
      " [6.7 3.1 5.6 2.4]\n",
      " [6.9 3.1 5.1 2.3]\n",
      " [5.8 2.7 5.1 1.9]\n",
      " [6.8 3.2 5.9 2.3]\n",
      " [6.7 3.3 5.7 2.5]\n",
      " [6.7 3.  5.2 2.3]\n",
      " [6.3 2.5 5.  1.9]\n",
      " [6.5 3.  5.2 2. ]\n",
      " [6.2 3.4 5.4 2.3]\n",
      " [5.9 3.  5.1 1.8]]\n"
     ]
    }
   ],
   "source": [
    "# Carregando um dataset para dentro de um array\n",
    "arr13 = np.loadtxt(filename, delimiter = ',', usecols = (0,1,2,3), skiprows = 1)\n",
    "print(arr13)"
   ]
  },
  {
   "cell_type": "code",
   "execution_count": 88,
   "metadata": {
    "id": "DG3XaO0coddy"
   },
   "outputs": [
    {
     "data": {
      "text/plain": [
       "numpy.ndarray"
      ]
     },
     "execution_count": 88,
     "metadata": {},
     "output_type": "execute_result"
    }
   ],
   "source": [
    "type(arr13)"
   ]
  },
  {
   "cell_type": "code",
   "execution_count": 89,
   "metadata": {
    "id": "S2HRNV9Rodiw"
   },
   "outputs": [],
   "source": [
    "# Carregando apenas duas variáveis (colunas) do arquivo\n",
    "var1, var2 = np.loadtxt(filename, delimiter = ',', usecols = (0,1), skiprows = 1, unpack = True)"
   ]
  },
  {
   "cell_type": "code",
   "execution_count": 90,
   "metadata": {
    "id": "LEDmO7D-ooaB"
   },
   "outputs": [
    {
     "data": {
      "image/png": "[encoded data removed]",
      "text/plain": [
       "<Figure size 640x480 with 1 Axes>"
      ]
     },
     "metadata": {},
     "output_type": "display_data"
    }
   ],
   "source": [
    "# Gerando um plot a partir de um arquivo usando o NumPy\n",
    "import matplotlib.pyplot as plt\n",
    "plt.show(plt.plot(var1, var2, '*', markersize = 6, color = 'blue'))"
   ]
  },
  {
   "cell_type": "markdown",
   "metadata": {
    "id": "5hJStGyTosVv"
   },
   "source": [
    "### Análise Estatística Básica com NumPy"
   ]
  },
  {
   "cell_type": "code",
   "execution_count": 92,
   "metadata": {
    "id": "IFd7Qli1oocQ"
   },
   "outputs": [],
   "source": [
    "# Criando um array\n",
    "arr14 = np.array([15, 23, 63, 94, 75])"
   ]
  },
  {
   "cell_type": "markdown",
   "metadata": {
    "id": "_NLpWdXbpiZA"
   },
   "source": [
    "Em Estatística, a média é uma medida de tendência central que representa o valor central de um conjunto de dados. É calculada somando-se todos os valores do conjunto de dados e dividindo-se pelo número de observações."
   ]
  },
  {
   "cell_type": "code",
   "execution_count": 94,
   "metadata": {
    "id": "TahuL_wSphbM"
   },
   "outputs": [
    {
     "data": {
      "text/plain": [
       "54.0"
      ]
     },
     "execution_count": 94,
     "metadata": {},
     "output_type": "execute_result"
    }
   ],
   "source": [
    "# Média\n",
    "np.mean(arr14)"
   ]
  },
  {
   "cell_type": "markdown",
   "metadata": {
    "id": "P7oK-StRpk-4"
   },
   "source": [
    "O desvio padrão é uma medida estatística de dispersão que indica o quanto os valores de um conjunto de dados se afastam da média. Ele é calculado como a raiz quadrada da variância, que é a média dos quadrados das diferenças entre cada valor e a média.\n",
    "\n",
    "O desvio padrão é uma medida útil porque permite avaliar a variabilidade dos dados em torno da média. Se os valores estiverem próximos da média, o desvio padrão será baixo, indicando que os dados têm pouca variabilidade. Por outro lado, se os valores estiverem muito distantes da média, o desvio padrão será alto, indicando que os dados têm alta variabilidade.\n",
    "\n",
    "O desvio padrão é amplamente utilizado em Análise e Ciência de Dados, para avaliar a consistência dos dados e comparar conjuntos de dados diferentes. É importante notar que o desvio padrão pode ser influenciado por valores extremos (outliers) e pode ser afetado por diferentes distribuições de dados."
   ]
  },
  {
   "cell_type": "code",
   "execution_count": 96,
   "metadata": {
    "id": "bEoGnt9lphdY"
   },
   "outputs": [
    {
     "data": {
      "text/plain": [
       "30.34468652004828"
      ]
     },
     "execution_count": 96,
     "metadata": {},
     "output_type": "execute_result"
    }
   ],
   "source": [
    "# Desvio Padrão (Standard Deviation)\n",
    "np.std(arr14)"
   ]
  },
  {
   "cell_type": "markdown",
   "metadata": {
    "id": "kfRe_zRnpoRg"
   },
   "source": [
    "A variância é uma medida estatística que quantifica a dispersão dos valores em um conjunto de dados em relação à média. Ela é calculada como a média dos quadrados das diferenças entre cada valor e a média.\n",
    "\n",
    "A fórmula para o cálculo da variância é:\n",
    "\n",
    "var = 1/n * Σ(xi - x̄)^2\n",
    "\n",
    "Onde:\n",
    "\n",
    "var é a variância\n",
    "n é o número de observações\n",
    "Σ é o somatório\n",
    "xi é o i-ésimo valor no conjunto de dados\n",
    "x̄ é a média dos valores\n",
    "A variância é uma medida útil para avaliar a variabilidade dos dados em torno da média. Se a variância for baixa, isso indica que os valores estão próximos da média e têm pouca variabilidade. Por outro lado, se a variância for alta, isso indica que os valores estão distantes da média e têm alta variabilidade."
   ]
  },
  {
   "cell_type": "code",
   "execution_count": 98,
   "metadata": {
    "id": "N7_dXPxYphfa"
   },
   "outputs": [
    {
     "data": {
      "text/plain": [
       "920.8"
      ]
     },
     "execution_count": 98,
     "metadata": {},
     "output_type": "execute_result"
    }
   ],
   "source": [
    "# Variância\n",
    "np.var(arr14)"
   ]
  },
  {
   "cell_type": "markdown",
   "metadata": {
    "id": "YmCvH4T4ptBO"
   },
   "source": [
    "### Operações Matemáticas com Arrays NumPy"
   ]
  },
  {
   "cell_type": "code",
   "execution_count": 100,
   "metadata": {
    "id": "aePpxRSXprqe"
   },
   "outputs": [
    {
     "name": "stdout",
     "output_type": "stream",
     "text": [
      "[1 2 3 4 5 6 7 8 9]\n"
     ]
    }
   ],
   "source": [
    "arr15 = np.arange(1, 10)\n",
    "print(arr15)"
   ]
  },
  {
   "cell_type": "code",
   "execution_count": 101,
   "metadata": {
    "id": "dKhV-UlFpvpZ"
   },
   "outputs": [
    {
     "data": {
      "text/plain": [
       "45"
      ]
     },
     "execution_count": 101,
     "metadata": {},
     "output_type": "execute_result"
    }
   ],
   "source": [
    "# Soma dos elementos do array\n",
    "np.sum(arr15)"
   ]
  },
  {
   "cell_type": "code",
   "execution_count": 102,
   "metadata": {
    "id": "Q9EcOFzjpvri"
   },
   "outputs": [
    {
     "data": {
      "text/plain": [
       "362880"
      ]
     },
     "execution_count": 102,
     "metadata": {},
     "output_type": "execute_result"
    }
   ],
   "source": [
    "# Retorna o produto dos elementos\n",
    "np.prod(arr15)"
   ]
  },
  {
   "cell_type": "code",
   "execution_count": 103,
   "metadata": {
    "id": "JQDSc1fnooeT"
   },
   "outputs": [
    {
     "data": {
      "text/plain": [
       "array([ 1,  3,  6, 10, 15, 21, 28, 36, 45])"
      ]
     },
     "execution_count": 103,
     "metadata": {},
     "output_type": "execute_result"
    }
   ],
   "source": [
    "# Soma acumulada dos elementos\n",
    "np.cumsum(arr15)"
   ]
  },
  {
   "cell_type": "code",
   "execution_count": 104,
   "metadata": {
    "id": "ynF2dlabpzaY"
   },
   "outputs": [],
   "source": [
    "# Cria 2 arrays\n",
    "arr16 = np.array([3, 2, 1])\n",
    "arr17 = np.array([1, 2, 3])"
   ]
  },
  {
   "cell_type": "code",
   "execution_count": 105,
   "metadata": {
    "id": "U-M6T_0Bpzcw"
   },
   "outputs": [
    {
     "name": "stdout",
     "output_type": "stream",
     "text": [
      "[4 4 4]\n"
     ]
    }
   ],
   "source": [
    "# Soma dos arrays\n",
    "arr18 = np.add(arr16, arr17)\n",
    "print(arr18)"
   ]
  },
  {
   "cell_type": "markdown",
   "metadata": {
    "id": "W03wzi2dp4M2"
   },
   "source": [
    "Para multiplicar duas matrizes NumPy, podemos usar a função `dot()` ou o operador @. Ambos os métodos executam a multiplicação matricial. É importante lembrar que, para que a multiplicação de matrizes possa ser executada, o número de colunas da primeira matriz deve ser igual ao número de linhas da segunda matriz.\n",
    "\n",
    "Há várias formas de multiplicar elementos de matrizes NumPy. A função `dot()` é um método bastante utilizado."
   ]
  },
  {
   "cell_type": "code",
   "execution_count": 107,
   "metadata": {
    "id": "Gwy3f8KRpzfC"
   },
   "outputs": [
    {
     "data": {
      "text/plain": [
       "(2, 2)"
      ]
     },
     "execution_count": 107,
     "metadata": {},
     "output_type": "execute_result"
    }
   ],
   "source": [
    "# Cria duas matrizes\n",
    "arr19 = np.array([[1, 2], [3, 4]])\n",
    "arr20 = np.array([[5, 6], [0, 7]])\n",
    "\n",
    "arr19.shape"
   ]
  },
  {
   "cell_type": "code",
   "execution_count": 108,
   "metadata": {
    "id": "3odJWHHDp5KB"
   },
   "outputs": [
    {
     "data": {
      "text/plain": [
       "(2, 2)"
      ]
     },
     "execution_count": 108,
     "metadata": {},
     "output_type": "execute_result"
    }
   ],
   "source": [
    "arr20.shape"
   ]
  },
  {
   "cell_type": "code",
   "execution_count": 109,
   "metadata": {
    "id": "qPVJXSHZp5MA"
   },
   "outputs": [
    {
     "name": "stdout",
     "output_type": "stream",
     "text": [
      "[[1 2]\n",
      " [3 4]]\n"
     ]
    }
   ],
   "source": [
    "print(arr19)"
   ]
  },
  {
   "cell_type": "code",
   "execution_count": 110,
   "metadata": {
    "id": "n_g6Ad7Sp5OQ"
   },
   "outputs": [
    {
     "name": "stdout",
     "output_type": "stream",
     "text": [
      "[[5 6]\n",
      " [0 7]]\n"
     ]
    }
   ],
   "source": [
    "print(arr20)"
   ]
  },
  {
   "cell_type": "code",
   "execution_count": 111,
   "metadata": {
    "id": "YqELxnFMp96g"
   },
   "outputs": [],
   "source": [
    "# Multiplicar as duas matrizes\n",
    "arr21 = np.dot(arr19, arr20)"
   ]
  },
  {
   "cell_type": "code",
   "execution_count": 112,
   "metadata": {
    "id": "yF9XJOc-p9-l"
   },
   "outputs": [
    {
     "name": "stdout",
     "output_type": "stream",
     "text": [
      "[[ 5 20]\n",
      " [15 46]]\n"
     ]
    }
   ],
   "source": [
    "print(arr21)"
   ]
  },
  {
   "cell_type": "code",
   "execution_count": 113,
   "metadata": {
    "id": "bWcTmHr0p-BA"
   },
   "outputs": [],
   "source": [
    "# Multiplicar as duas matrizes\n",
    "arr21 = arr19 @ arr20"
   ]
  },
  {
   "cell_type": "code",
   "execution_count": 114,
   "metadata": {
    "id": "SllsE8cvqA5o"
   },
   "outputs": [
    {
     "name": "stdout",
     "output_type": "stream",
     "text": [
      "[[ 5 20]\n",
      " [15 46]]\n"
     ]
    }
   ],
   "source": [
    "print(arr21)"
   ]
  },
  {
   "cell_type": "code",
   "execution_count": 115,
   "metadata": {
    "id": "DlnbOaVLqA8L"
   },
   "outputs": [],
   "source": [
    "# Multiplicar as duas matrizes\n",
    "arr21 = np.tensordot(arr19, arr20, axes = ((1),(0)))"
   ]
  },
  {
   "cell_type": "code",
   "execution_count": 116,
   "metadata": {
    "id": "5CVp_nU5qA-V"
   },
   "outputs": [
    {
     "name": "stdout",
     "output_type": "stream",
     "text": [
      "[[ 5 20]\n",
      " [15 46]]\n"
     ]
    }
   ],
   "source": [
    "print(arr21)"
   ]
  },
  {
   "cell_type": "markdown",
   "metadata": {
    "id": "JO7SdfyrqELW"
   },
   "source": [
    "### Slicing (Fatiamento) de Arrays NumPy¶"
   ]
  },
  {
   "cell_type": "code",
   "execution_count": 118,
   "metadata": {
    "id": "ePhhrCQxqBAY"
   },
   "outputs": [
    {
     "name": "stdout",
     "output_type": "stream",
     "text": [
      "[[0 0 0]\n",
      " [0 1 0]\n",
      " [0 0 2]]\n"
     ]
    }
   ],
   "source": [
    "# Cria um array\n",
    "arr22 = np.diag(np.arange(3))\n",
    "print(arr22)"
   ]
  },
  {
   "cell_type": "code",
   "execution_count": 119,
   "metadata": {
    "id": "04bN1FS6qGpJ"
   },
   "outputs": [
    {
     "data": {
      "text/plain": [
       "1"
      ]
     },
     "execution_count": 119,
     "metadata": {},
     "output_type": "execute_result"
    }
   ],
   "source": [
    "arr22[1, 1]"
   ]
  },
  {
   "cell_type": "code",
   "execution_count": 120,
   "metadata": {
    "id": "CJJtdTa_qGrb"
   },
   "outputs": [
    {
     "data": {
      "text/plain": [
       "array([0, 1, 0])"
      ]
     },
     "execution_count": 120,
     "metadata": {},
     "output_type": "execute_result"
    }
   ],
   "source": [
    "arr22[1]"
   ]
  },
  {
   "cell_type": "code",
   "execution_count": 121,
   "metadata": {
    "id": "PlDYoTk8qGti"
   },
   "outputs": [
    {
     "data": {
      "text/plain": [
       "array([0, 0, 2])"
      ]
     },
     "execution_count": 121,
     "metadata": {},
     "output_type": "execute_result"
    }
   ],
   "source": [
    "arr22[:,2]"
   ]
  },
  {
   "cell_type": "code",
   "execution_count": 122,
   "metadata": {
    "id": "OcfFJuGOqGvn"
   },
   "outputs": [],
   "source": [
    "arr23 = np.arange(10)"
   ]
  },
  {
   "cell_type": "code",
   "execution_count": 123,
   "metadata": {
    "id": "wlxnG_pMqGxy"
   },
   "outputs": [
    {
     "name": "stdout",
     "output_type": "stream",
     "text": [
      "[0 1 2 3 4 5 6 7 8 9]\n"
     ]
    }
   ],
   "source": [
    "print(arr23)"
   ]
  },
  {
   "cell_type": "code",
   "execution_count": 124,
   "metadata": {
    "id": "Zwe6qc6vqM4R"
   },
   "outputs": [
    {
     "data": {
      "text/plain": [
       "array([2, 5, 8])"
      ]
     },
     "execution_count": 124,
     "metadata": {},
     "output_type": "execute_result"
    }
   ],
   "source": [
    "# [start:end:step]\n",
    "arr23[2:9:3]"
   ]
  },
  {
   "cell_type": "code",
   "execution_count": 125,
   "metadata": {
    "id": "ULzd6QoBqM6p"
   },
   "outputs": [],
   "source": [
    "# Cria 2 arrays\n",
    "a = np.array([1, 2, 3, 4])\n",
    "b = np.array([4, 2, 2, 4])"
   ]
  },
  {
   "cell_type": "code",
   "execution_count": 126,
   "metadata": {
    "id": "9JhLw8YtqM8z"
   },
   "outputs": [
    {
     "data": {
      "text/plain": [
       "array([False,  True, False,  True])"
      ]
     },
     "execution_count": 126,
     "metadata": {},
     "output_type": "execute_result"
    }
   ],
   "source": [
    "# Comparação item a item\n",
    "a == b"
   ]
  },
  {
   "cell_type": "code",
   "execution_count": 127,
   "metadata": {
    "id": "OQDVB10nqM-q"
   },
   "outputs": [
    {
     "data": {
      "text/plain": [
       "False"
      ]
     },
     "execution_count": 127,
     "metadata": {},
     "output_type": "execute_result"
    }
   ],
   "source": [
    "# Comparação global\n",
    "np.array_equal(arr22, arr23)"
   ]
  },
  {
   "cell_type": "code",
   "execution_count": 128,
   "metadata": {
    "id": "02BEgusVqRup"
   },
   "outputs": [
    {
     "data": {
      "text/plain": [
       "0"
      ]
     },
     "execution_count": 128,
     "metadata": {},
     "output_type": "execute_result"
    }
   ],
   "source": [
    "arr23.min()"
   ]
  },
  {
   "cell_type": "code",
   "execution_count": 129,
   "metadata": {
    "id": "aalhFUayqRwx"
   },
   "outputs": [
    {
     "data": {
      "text/plain": [
       "9"
      ]
     },
     "execution_count": 129,
     "metadata": {},
     "output_type": "execute_result"
    }
   ],
   "source": [
    "arr23.max()"
   ]
  },
  {
   "cell_type": "code",
   "execution_count": 130,
   "metadata": {
    "id": "cxrzVL7eqRzJ"
   },
   "outputs": [
    {
     "data": {
      "text/plain": [
       "array([2.5, 3.5, 4.5])"
      ]
     },
     "execution_count": 130,
     "metadata": {},
     "output_type": "execute_result"
    }
   ],
   "source": [
    "# Somando um valor a cada elemento do array\n",
    "np.array([1, 2, 3]) + 1.5"
   ]
  },
  {
   "cell_type": "code",
   "execution_count": 131,
   "metadata": {
    "id": "Z581P6HKqUXJ"
   },
   "outputs": [
    {
     "name": "stdout",
     "output_type": "stream",
     "text": [
      "[1.2 1.5 1.6 2.5 3.5 4.5]\n"
     ]
    }
   ],
   "source": [
    "# Cria um array\n",
    "arr24 = np.array([1.2, 1.5, 1.6, 2.5, 3.5, 4.5])\n",
    "print(arr24)"
   ]
  },
  {
   "cell_type": "code",
   "execution_count": 132,
   "metadata": {
    "id": "hAY-6e8DqUZS"
   },
   "outputs": [
    {
     "name": "stdout",
     "output_type": "stream",
     "text": [
      "[1. 2. 2. 2. 4. 4.]\n"
     ]
    }
   ],
   "source": [
    "# Usando o método around\n",
    "arr25 = np.around(arr24)\n",
    "print(arr25)"
   ]
  },
  {
   "cell_type": "code",
   "execution_count": 133,
   "metadata": {
    "id": "SfMtkrDYqa1R"
   },
   "outputs": [
    {
     "name": "stdout",
     "output_type": "stream",
     "text": [
      "[[1 2 3 4]\n",
      " [5 6 7 8]]\n"
     ]
    }
   ],
   "source": [
    "# Criando um array\n",
    "arr26 = np.array([[1, 2, 3, 4], [5, 6, 7, 8]])\n",
    "print(arr26)"
   ]
  },
  {
   "cell_type": "markdown",
   "metadata": {
    "id": "zN4zcUBXqicG"
   },
   "source": [
    "O método `flatten()` com NumPy é usado para criar uma cópia unidimensional (ou \"achatada\") de um array multidimensional. Isso significa que o método cria um novo array unidimensional, que contém todos os elementos do array multidimensional original, mas que está organizado em uma única linha. A ordem dos elementos no novo array unidimensional segue a ordem dos elementos no array multidimensional original."
   ]
  },
  {
   "cell_type": "code",
   "execution_count": 135,
   "metadata": {
    "id": "G5fF8KZcqa3p"
   },
   "outputs": [
    {
     "name": "stdout",
     "output_type": "stream",
     "text": [
      "[1 2 3 4 5 6 7 8]\n"
     ]
    }
   ],
   "source": [
    "# \"Achatando\" a matriz\n",
    "arr27 = arr26.flatten()\n",
    "print(arr27)"
   ]
  },
  {
   "cell_type": "code",
   "execution_count": 136,
   "metadata": {
    "id": "JHTZWs6dqlUo"
   },
   "outputs": [
    {
     "name": "stdout",
     "output_type": "stream",
     "text": [
      "[1 2 3]\n"
     ]
    }
   ],
   "source": [
    "# Criando um array\n",
    "arr28 = np.array([1, 2, 3])\n",
    "print(arr28)"
   ]
  },
  {
   "cell_type": "code",
   "execution_count": 137,
   "metadata": {
    "id": "iLdEgGxZqlWy"
   },
   "outputs": [
    {
     "data": {
      "text/plain": [
       "array([1, 1, 1, 2, 2, 2, 3, 3, 3])"
      ]
     },
     "execution_count": 137,
     "metadata": {},
     "output_type": "execute_result"
    }
   ],
   "source": [
    "# Repetindo os elementos de um array\n",
    "np.repeat(arr28, 3)"
   ]
  },
  {
   "cell_type": "code",
   "execution_count": 138,
   "metadata": {
    "id": "5PoyNWXeqa5p"
   },
   "outputs": [
    {
     "data": {
      "text/plain": [
       "array([1, 2, 3, 1, 2, 3, 1, 2, 3])"
      ]
     },
     "execution_count": 138,
     "metadata": {},
     "output_type": "execute_result"
    }
   ],
   "source": [
    "# Repetindo os elementos de um array\n",
    "np.tile(arr28, 3)"
   ]
  },
  {
   "cell_type": "code",
   "execution_count": 139,
   "metadata": {
    "id": "N_5SRqsjqUbc"
   },
   "outputs": [],
   "source": [
    "# Criando um array\n",
    "arr29 = np.array([5, 6])"
   ]
  },
  {
   "cell_type": "code",
   "execution_count": 140,
   "metadata": {
    "id": "ZZapxv9pqsEc"
   },
   "outputs": [],
   "source": [
    "# Criando cópia do array\n",
    "arr30 = np.copy(arr29)"
   ]
  },
  {
   "cell_type": "code",
   "execution_count": 141,
   "metadata": {
    "id": "VqInfFNmqGz_"
   },
   "outputs": [
    {
     "name": "stdout",
     "output_type": "stream",
     "text": [
      "[5 6]\n"
     ]
    }
   ],
   "source": [
    "print(arr30)\n"
   ]
  },
  {
   "cell_type": "markdown",
   "metadata": {
    "id": "rQkIgUwAhjT4"
   },
   "source": [
    "## Exercícios"
   ]
  },
  {
   "cell_type": "code",
   "execution_count": 143,
   "metadata": {
    "id": "24vwr1burfZa"
   },
   "outputs": [
    {
     "data": {
      "text/plain": [
       "array([ 1,  4,  9, 16, 25, 36])"
      ]
     },
     "execution_count": 143,
     "metadata": {},
     "output_type": "execute_result"
    }
   ],
   "source": [
    "# Exercício 1 - Crie uma lista de números, converta para um array do numpy. Realize algumas operações:\n",
    "teste = np.array([1, 2, 3, 4, 5, 6])\n",
    "\n",
    "# Adiciona 10 a cada elemento\n",
    "teste + 10\n",
    "# Multiplica cada elemento por 2\n",
    "teste * 2\n",
    "# Eleva cada elemento ao quadrado\n",
    "teste * teste"
   ]
  },
  {
   "cell_type": "code",
   "execution_count": 144,
   "metadata": {
    "id": "2MOxtKZyr6E3"
   },
   "outputs": [
    {
     "data": {
      "text/plain": [
       "array([[ 7, 10],\n",
       "       [15, 22]])"
      ]
     },
     "execution_count": 144,
     "metadata": {},
     "output_type": "execute_result"
    }
   ],
   "source": [
    "# Exercício 2 - Crie duas matrizes 2x2, realize operações de soma, subtração e multiplicação de matrizes:\n",
    "a = np.array([[1,2],[3,4]])\n",
    "b = np.array([[1,2],[3,4]])\n",
    "# Soma de matrizes\n",
    "np.add(a, b)\n",
    "# Subtração de matrizes\n",
    "a - b\n",
    "# Multiplicação de matrizes\n",
    "np.dot(a,b)"
   ]
  },
  {
   "cell_type": "code",
   "execution_count": 145,
   "metadata": {
    "id": "4nUzSwgzsd9f"
   },
   "outputs": [],
   "source": [
    "# Exercício 3 - Considerando os dados a abaixo, calcule e imprima a media, media e desvio padrão.\n",
    "# Explique a o que é uma das métricas estatísticas."
   ]
  },
  {
   "cell_type": "code",
   "execution_count": 146,
   "metadata": {
    "id": "J-EzJqBxtJJP"
   },
   "outputs": [
    {
     "data": {
      "text/plain": [
       "6.456779382943171"
      ]
     },
     "execution_count": 146,
     "metadata": {},
     "output_type": "execute_result"
    }
   ],
   "source": [
    "# Você possui dois conjuntos de dados: notas dos alunos em duas provas (Prova 1 e Prova 2) e os pesos atribuídos a cada aluno, representando a importância das provas.\n",
    "# A tarefa é realizar os seguintes cálculos:\n",
    "# - Média ponderada das notas considerando os pesos das provas.\n",
    "# - Desvio padrão da amostra das notas para cada prova.\n",
    "# - Correlação entre as notas das duas provas\n",
    "\n",
    "# Dados dos alunos\n",
    "notas_prova1 = np.array([85, 92, 78, 90, 88, 76, 95, 89, 77, 91])  # Notas da Prova 1\n",
    "notas_prova2 = np.array([80, 87, 85, 88, 91, 79, 92, 85, 76, 90])  # Notas da Prova 2\n",
    "\n",
    "\n",
    "# Pesos atribuídos a cada aluno (por exemplo, o peso de Prova 1 e Prova 2)\n",
    "pesos = np.array([1, 1, 1, 1, 1, 2, 2, 2, 2, 2])  # Pesos diferentes para os alunos\n",
    "\n",
    "(np.sum(notas_prova1 * pesos))/np.sum(pesos)\n",
    "np.std(notas_prova1)\n"
   ]
  },
  {
   "cell_type": "markdown",
   "metadata": {
    "id": "DT3aufY7mCNA"
   },
   "source": [
    "## Fim"
   ]
  }
 ],
 "metadata": {
  "anaconda-cloud": {},
  "colab": {
   "provenance": [],
   "toc_visible": true
  },
  "kernelspec": {
   "display_name": "Python 3 (ipykernel)",
   "language": "python",
   "name": "python3"
  },
  "language_info": {
   "codemirror_mode": {
    "name": "ipython",
    "version": 3
   },
   "file_extension": ".py",
   "mimetype": "text/x-python",
   "name": "python",
   "nbconvert_exporter": "python",
   "pygments_lexer": "ipython3",
   "version": "3.12.7"
  }
 },
 "nbformat": 4,
 "nbformat_minor": 4
}
